{
 "cells": [
  {
   "cell_type": "markdown",
   "id": "287bf32c",
   "metadata": {},
   "source": [
    "# Worksheet - Blog medium \"Second-order differential equations to describe vibrations\""
   ]
  },
  {
   "cell_type": "markdown",
   "id": "4e456a2e",
   "metadata": {},
   "source": [
    "This worksheet is related to the blog \"Second-order differential equations to describe vibrations\"."
   ]
  },
  {
   "cell_type": "markdown",
   "id": "9894c3a2",
   "metadata": {},
   "source": [
    "## Import packages"
   ]
  },
  {
   "cell_type": "markdown",
   "id": "5a8a72cd",
   "metadata": {},
   "source": [
    "We need several packages to make the necessary calculations. One of them is SymPy; a package that we can use to generate analytical solutions."
   ]
  },
  {
   "cell_type": "code",
   "execution_count": 1,
   "id": "dff8155a",
   "metadata": {},
   "outputs": [],
   "source": [
    "import numpy as np\n",
    "import matplotlib.pyplot as plt\n",
    "from sympy import Function, dsolve, Eq, Derivative, sin, cos, symbols\n",
    "from sympy.abc import x\n",
    "from sympy.utilities.lambdify import lambdify\n",
    "\n",
    "# https://docs.sympy.org/latest/modules/solvers/ode.html"
   ]
  },
  {
   "cell_type": "markdown",
   "id": "d8620727",
   "metadata": {},
   "source": [
    "## Figure settings"
   ]
  },
  {
   "cell_type": "markdown",
   "id": "539a4cc2",
   "metadata": {},
   "source": [
    "Some settings for the figures."
   ]
  },
  {
   "cell_type": "code",
   "execution_count": 2,
   "id": "00e3269f",
   "metadata": {},
   "outputs": [],
   "source": [
    "cm = 1/2.54  # centimeters in inches\n",
    "figsize = [8*cm,8*cm]; # Standard figure width: 10cm\n",
    "#plt.rcParams['mathtext.fontset'] = 'cm'\n",
    "#plt.rcParams['font.family'] = 'STIXGeneral'\n",
    "plt.rcParams['axes.labelsize'] = 10\n",
    "plt.rcParams['axes.titlesize'] = 13"
   ]
  },
  {
   "cell_type": "markdown",
   "id": "cff2a298",
   "metadata": {},
   "source": [
    "## Parameters"
   ]
  },
  {
   "cell_type": "markdown",
   "id": "29a3a925",
   "metadata": {},
   "source": [
    "Settings of several parameters: time-related and properties of the system."
   ]
  },
  {
   "cell_type": "code",
   "execution_count": 3,
   "id": "6f50b3b8",
   "metadata": {},
   "outputs": [],
   "source": [
    "N = 100; # Number of time increments\n",
    "dt = 0.2; # Time density\n",
    "t0 = 0; # Start of time\n",
    "tend = N*dt; # Ending time"
   ]
  },
  {
   "cell_type": "code",
   "execution_count": 4,
   "id": "c2eb6737",
   "metadata": {},
   "outputs": [],
   "source": [
    "m=10; # Mass [kg]\n",
    "k=20; # Spring stiffness [N/m]\n",
    "F0=30; # Amplitude of the external force [N]"
   ]
  },
  {
   "cell_type": "code",
   "execution_count": 5,
   "id": "96dd881c",
   "metadata": {},
   "outputs": [],
   "source": [
    "ω0=np.sqrt(k/m); # Undamped eigenfrequency [rad/s]\n",
    "ω=2; # Excitation frequency [rad/s]"
   ]
  },
  {
   "cell_type": "markdown",
   "id": "0c13bdc8",
   "metadata": {},
   "source": [
    "## Initial conditions"
   ]
  },
  {
   "cell_type": "markdown",
   "id": "58e2d6c3",
   "metadata": {},
   "source": [
    "Since we are dealing with a second-order differential equation; we need two initial conditions. The first one is related to the initial displacement, the second one to the first derivative with respect to time; the velocity."
   ]
  },
  {
   "cell_type": "code",
   "execution_count": 6,
   "id": "8acf5a5c",
   "metadata": {},
   "outputs": [],
   "source": [
    "u_0 = 1; # Initial condition - related to the initial displacement\n",
    "v_0 = 2; # Initial condition - related to the initial velocity\n",
    "\n",
    "u0=u_0;\n",
    "v0=v_0;"
   ]
  },
  {
   "cell_type": "markdown",
   "id": "a29c52ff",
   "metadata": {},
   "source": [
    "## Use solution as derived in the blog"
   ]
  },
  {
   "cell_type": "markdown",
   "id": "53ffc6c0",
   "metadata": {},
   "source": [
    "Below we use the solution as derived in the blog \"Second-order differential equations to describe vibrations\", which you can read at www.medium.com"
   ]
  },
  {
   "cell_type": "code",
   "execution_count": 7,
   "id": "9c153543",
   "metadata": {},
   "outputs": [],
   "source": [
    "u = np.zeros(N);\n",
    "t = np.zeros(N);"
   ]
  },
  {
   "cell_type": "code",
   "execution_count": 8,
   "id": "ae531401",
   "metadata": {},
   "outputs": [],
   "source": [
    "for i in range(N):\n",
    "    t[i] = dt*i;\n",
    "    u[i] = (u0-(F0/k)*(1/(1-(ω**2/ω0**2))))*np.cos(dt*i*ω0)+(v0/ω0)*np.sin(dt*i*ω0)+(F0/k)*(1/(1-(ω**2/ω0**2)))*np.cos(dt*i*ω);"
   ]
  },
  {
   "cell_type": "markdown",
   "id": "c3797739",
   "metadata": {},
   "source": [
    "## Check the solution with SciPy"
   ]
  },
  {
   "cell_type": "markdown",
   "id": "5e7ada0d",
   "metadata": {},
   "source": [
    "We can check our derived solution with SciPy. Let's implement this."
   ]
  },
  {
   "cell_type": "code",
   "execution_count": 9,
   "id": "a9ab5539",
   "metadata": {},
   "outputs": [],
   "source": [
    "# https://stackoverflow.com/questions/58034695/sympy-solving-differential-equation-with-initial-conditions-error\n",
    "\n",
    "f = Function('f');\n",
    "sol1 = dsolve(Derivative(f(x),x,x)*m + f(x)*k - F0*cos(ω*x), ics={ f(0): u_0, Derivative(f(x), x).subs(x,0): v_0  }  );"
   ]
  },
  {
   "cell_type": "code",
   "execution_count": 10,
   "id": "96f8b0e8",
   "metadata": {},
   "outputs": [],
   "source": [
    "lambsol = lambdify(x,sol1.rhs);"
   ]
  },
  {
   "cell_type": "code",
   "execution_count": 11,
   "id": "07e19a65",
   "metadata": {},
   "outputs": [],
   "source": [
    "solan = np.zeros(N);"
   ]
  },
  {
   "cell_type": "code",
   "execution_count": 12,
   "id": "bfc0edd4",
   "metadata": {},
   "outputs": [],
   "source": [
    "for i in range(N):\n",
    "    t[i] = dt*i;\n",
    "    solan[i] = lambsol(t[i]);"
   ]
  },
  {
   "cell_type": "markdown",
   "id": "f579438c",
   "metadata": {},
   "source": [
    "## Combine the plots"
   ]
  },
  {
   "cell_type": "markdown",
   "id": "24106a95",
   "metadata": {},
   "source": [
    "Below the plots of the solution - derived by hand - and SciPy."
   ]
  },
  {
   "cell_type": "code",
   "execution_count": 13,
   "id": "23ccf51b",
   "metadata": {},
   "outputs": [
    {
     "data": {
      "text/plain": [
       "<Figure size 226.772x226.772 with 0 Axes>"
      ]
     },
     "metadata": {},
     "output_type": "display_data"
    },
    {
     "data": {
      "image/png": "[encoded data removed]",
      "text/plain": [
       "<Figure size 432x288 with 1 Axes>"
      ]
     },
     "metadata": {
      "needs_background": "light"
     },
     "output_type": "display_data"
    }
   ],
   "source": [
    "plt.figure(figsize=(figsize[0],figsize[1]));\n",
    "plt.figure();\n",
    "plt.plot(t,u,\"b\",label=\"Self-derived equation\");\n",
    "plt.plot(t,solan,\"r*\",label=\"Derived equation by Sympy\");\n",
    "plt.grid();\n",
    "plt.xlabel(r\" $t$ [s]\");\n",
    "plt.ylabel(r\" $u$ [m]\");\n",
    "plt.title(\"Motion vs time\");\n",
    "plt.xlim([0,tend]);\n",
    "plt.ylim([-5,5]);\n",
    "plt.legend();"
   ]
  },
  {
   "cell_type": "markdown",
   "id": "f85032f7",
   "metadata": {},
   "source": [
    "## Analyze particular solution"
   ]
  },
  {
   "cell_type": "markdown",
   "id": "0582658b",
   "metadata": {},
   "source": [
    "The particular solution is a solution that in the end will behave in phase (or anti-phase) with the excitation. And indeed, we can see that in the plot below. "
   ]
  },
  {
   "cell_type": "code",
   "execution_count": 14,
   "id": "ff00cd7d",
   "metadata": {},
   "outputs": [],
   "source": [
    "upart = np.zeros(N);\n",
    "uext = np.zeros(N);"
   ]
  },
  {
   "cell_type": "code",
   "execution_count": 15,
   "id": "ea8359db",
   "metadata": {},
   "outputs": [],
   "source": [
    "for i in range(N):\n",
    "    t[i] = dt*i;\n",
    "    upart[i] = (F0/k)*(1/(1-(ω**2/ω0**2)))*np.cos(dt*i*ω);\n",
    "    uext[i] = F0*cos(dt*i*ω);"
   ]
  },
  {
   "cell_type": "code",
   "execution_count": 16,
   "id": "a2fd02fa",
   "metadata": {},
   "outputs": [
    {
     "data": {
      "text/plain": [
       "<Figure size 226.772x226.772 with 0 Axes>"
      ]
     },
     "metadata": {},
     "output_type": "display_data"
    },
    {
     "data": {
      "image/png": "[encoded data removed]",
      "text/plain": [
       "<Figure size 432x288 with 1 Axes>"
      ]
     },
     "metadata": {
      "needs_background": "light"
     },
     "output_type": "display_data"
    }
   ],
   "source": [
    "plt.figure(figsize=(figsize[0],figsize[1]));\n",
    "plt.figure();\n",
    "plt.plot(t,upart,\"b\",label=\"Particular solution\");\n",
    "plt.plot(t,uext,\"g\",label=\"External force\");\n",
    "plt.grid();\n",
    "plt.xlabel(r\" $t$ [s]\");\n",
    "plt.ylabel(r\" $u$ [m]\");\n",
    "plt.xlim([0,tend]);\n",
    "plt.ylim([-5,5]);"
   ]
  }
 ],
 "metadata": {
  "kernelspec": {
   "display_name": "Python 3",
   "language": "python",
   "name": "python3"
  },
  "language_info": {
   "codemirror_mode": {
    "name": "ipython",
    "version": 3
   },
   "file_extension": ".py",
   "mimetype": "text/x-python",
   "name": "python",
   "nbconvert_exporter": "python",
   "pygments_lexer": "ipython3",
   "version": "3.8.8"
  }
 },
 "nbformat": 4,
 "nbformat_minor": 5
}
